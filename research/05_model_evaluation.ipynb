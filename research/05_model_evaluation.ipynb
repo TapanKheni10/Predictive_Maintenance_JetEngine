{
 "cells": [
  {
   "cell_type": "code",
   "execution_count": null,
   "metadata": {},
   "outputs": [],
   "source": [
    "        X_test = pd.read_csv(self.config.x_test_data_path)\n",
    "\n",
    "        truth_value_path = self.config.truth_value_path\n",
    "\n",
    "        dfs = {}\n",
    "        for filename in os.listdir(truth_value_path):\n",
    "            if filename.endswith(\".txt\"):\n",
    "                file_path = os.path.join(truth_value_path, filename)\n",
    "\n",
    "                df_name = os.path.splitext(filename)[0]\n",
    "\n",
    "                df = pd.read_csv(file_path, sep=\"\\s+\", header=None, names=[\"RUL\"])\n",
    "\n",
    "                dfs[df_name] = df\n",
    "\n",
    "                logger.info(f\"DataFrame '{df_name}' has been created with shape: {df.shape}\")"
   ]
  },
  {
   "cell_type": "code",
   "execution_count": null,
   "metadata": {},
   "outputs": [],
   "source": [
    "RUL_FD001 = dfs[\"RUL_FD001\"]\n",
    "        RUL_FD003 = dfs[\"RUL_FD003\"]\n",
    "\n",
    "        y_test_FD001 = RUL_FD001.iloc[:,-1]\n",
    "        y_test_FD003 = RUL_FD003.iloc[:,-1]\n",
    "\n",
    "        logger.info(f\"y_test_FD001: {y_test_FD001.shape}, y_test_FD003: {y_test_FD003.shape}\")\n",
    "\n",
    "        y_test = pd.concat([y_test_FD001, y_test_FD003])\n",
    "        logger.info(\"Concatenating test data.\")"
   ]
  }
 ],
 "metadata": {
  "language_info": {
   "name": "python"
  }
 },
 "nbformat": 4,
 "nbformat_minor": 2
}
