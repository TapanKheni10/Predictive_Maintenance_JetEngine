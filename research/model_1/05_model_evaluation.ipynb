{
 "cells": [
  {
   "cell_type": "code",
   "execution_count": 1,
   "metadata": {},
   "outputs": [
    {
     "data": {
      "text/plain": [
       "'/Users/tapankheni/Data_Science/Data Science Projects/Predictive_Maintenance_JetEngine'"
      ]
     },
     "execution_count": 1,
     "metadata": {},
     "output_type": "execute_result"
    }
   ],
   "source": [
    "import os\n",
    "os.chdir(\"../\")\n",
    "%pwd"
   ]
  },
  {
   "cell_type": "code",
   "execution_count": 2,
   "metadata": {},
   "outputs": [],
   "source": [
    "from dataclasses import dataclass\n",
    "from pathlib import Path\n",
    "\n",
    "@dataclass\n",
    "class ModelEvaluationConfig:\n",
    "    root_dir: Path\n",
    "    x_test_data_path: Path\n",
    "    truth_value_path: Path\n",
    "    model_path: Path\n",
    "    metric_name: str"
   ]
  },
  {
   "cell_type": "code",
   "execution_count": 3,
   "metadata": {},
   "outputs": [],
   "source": [
    "from PredictiveMaintenance.constants import CONFIG_YAML_FILE_PATH, PARAMS_YAML_FILE_PATH, SCHEMA_YAML_FILE_PATH\n",
    "from PredictiveMaintenance.utils.common import read_yaml, create_directories, save_json"
   ]
  },
  {
   "cell_type": "code",
   "execution_count": 4,
   "metadata": {},
   "outputs": [],
   "source": [
    "class ConfigurationManager:\n",
    "    def __init__(\n",
    "        self,\n",
    "        config_filepath = CONFIG_YAML_FILE_PATH,\n",
    "        params_filepath = PARAMS_YAML_FILE_PATH,\n",
    "        schema_filepath = SCHEMA_YAML_FILE_PATH):\n",
    "\n",
    "        self.config = read_yaml(config_filepath)\n",
    "        self.params = read_yaml(params_filepath)\n",
    "        self.schema = read_yaml(schema_filepath)\n",
    "\n",
    "        create_directories([self.config.artifacts_root])\n",
    "\n",
    "\n",
    "    def get_model_evaluation_config(self) -> ModelEvaluationConfig:\n",
    "        config = self.config.model_evaluation\n",
    "        params = self.params.CatBoostRegressor\n",
    "\n",
    "        create_directories([config.root_dir])\n",
    "\n",
    "        model_evaluation_config = ModelEvaluationConfig(\n",
    "            root_dir=config.root_dir,\n",
    "            x_test_data_path=config.x_test_data_path,\n",
    "            truth_value_path=config.truth_value_path,\n",
    "            model_path=config.model_path,\n",
    "            metric_name=config.metric_name\n",
    "        )\n",
    "\n",
    "        return model_evaluation_config"
   ]
  },
  {
   "cell_type": "code",
   "execution_count": 5,
   "metadata": {},
   "outputs": [],
   "source": [
    "import pandas as pd\n",
    "from sklearn.metrics import mean_squared_error, mean_absolute_error, r2_score\n",
    "from urllib.parse import urlparse\n",
    "import numpy as np\n",
    "import joblib\n",
    "from PredictiveMaintenance import logger"
   ]
  },
  {
   "cell_type": "code",
   "execution_count": 6,
   "metadata": {},
   "outputs": [],
   "source": [
    "class ModelEvaluation:\n",
    "    def __init__(self, config: ModelEvaluationConfig):\n",
    "        self.config = config\n",
    "\n",
    "    def eval_matrix(self, y_true, y_pred):\n",
    "        rmse = np.sqrt(mean_squared_error(y_pred=y_pred, y_true=y_true))\n",
    "        mse = mean_squared_error(y_pred=y_pred, y_true=y_true)\n",
    "        r2 = r2_score(y_pred=y_pred, y_true=y_true)\n",
    "        return rmse, mse, r2\n",
    "    \n",
    "    def save_matrix(self):\n",
    "        X_test = pd.read_csv(self.config.x_test_data_path)\n",
    "\n",
    "        truth_value_path = self.config.truth_value_path\n",
    "\n",
    "        dfs = {}\n",
    "        for filename in os.listdir(truth_value_path):\n",
    "            if filename.endswith(\".txt\"):\n",
    "                file_path = os.path.join(truth_value_path, filename)\n",
    "\n",
    "                df_name = os.path.splitext(filename)[0]\n",
    "\n",
    "                df = pd.read_csv(file_path, sep=\"\\s+\", header=None, names=[\"RUL\"])\n",
    "\n",
    "                dfs[df_name] = df\n",
    "\n",
    "                logger.info(f\"DataFrame '{df_name}' has been created with shape: {df.shape}\")\n",
    "                logger.info(df.head())\n",
    "        \n",
    "        RUL_FD001 = dfs[\"RUL_FD001\"]\n",
    "\n",
    "        y_test = RUL_FD001.iloc[:,-1]\n",
    "\n",
    "        logger.info(f\"y_test: {y_test.shape}\")\n",
    "\n",
    "        model = joblib.load(self.config.model_path)\n",
    "        y_pred = model.predict(X_test)\n",
    "\n",
    "        (rmse, mse, r2) = self.eval_matrix(y_true=y_test, y_pred=y_pred)\n",
    "\n",
    "        scores = {\"RMSE\": rmse, \"MSE\": mse, \"r2_score\": r2}\n",
    "        save_json(path=Path(os.path.join(self.config.root_dir, self.config.metric_name)), data=scores)"
   ]
  },
  {
   "cell_type": "code",
   "execution_count": 7,
   "metadata": {},
   "outputs": [
    {
     "name": "stdout",
     "output_type": "stream",
     "text": [
      "[2024-03-06 07:32:43,076: INFO: common: yaml file: config/config.yaml loaded successfully]\n",
      "[2024-03-06 07:32:43,078: INFO: common: yaml file: params.yaml loaded successfully]\n",
      "[2024-03-06 07:32:43,083: INFO: common: yaml file: schema.yaml loaded successfully]\n",
      "[2024-03-06 07:32:43,084: INFO: common: created directory at: artifacts]\n",
      "[2024-03-06 07:32:43,085: INFO: common: created directory at: artifacts/model_evaluation]\n",
      "[2024-03-06 07:32:43,089: INFO: 3398171951: DataFrame 'RUL_FD001' has been created with shape: (100, 1)]\n",
      "[2024-03-06 07:32:43,090: INFO: 3398171951:    RUL\n",
      "0  112\n",
      "1   98\n",
      "2   69\n",
      "3   82\n",
      "4   91]\n",
      "[2024-03-06 07:32:43,092: INFO: 3398171951: DataFrame 'RUL_FD003' has been created with shape: (100, 1)]\n",
      "[2024-03-06 07:32:43,093: INFO: 3398171951:    RUL\n",
      "0   44\n",
      "1   51\n",
      "2   27\n",
      "3  120\n",
      "4  101]\n",
      "[2024-03-06 07:32:43,094: INFO: 3398171951: y_test_FD001: (100,), y_test_FD003: (100,)]\n",
      "[2024-03-06 07:32:43,095: INFO: 3398171951: Concatenating test data.]\n",
      "[2024-03-06 07:32:43,111: INFO: common: json file saved at: artifacts/model_evaluation/metrics.json]\n"
     ]
    }
   ],
   "source": [
    "try:\n",
    "    config = ConfigurationManager()\n",
    "    model_evaluation_config = config.get_model_evaluation_config()\n",
    "    obj = ModelEvaluation(model_evaluation_config)\n",
    "    obj.save_matrix()\n",
    "except Exception as e:\n",
    "    raise e"
   ]
  },
  {
   "cell_type": "code",
   "execution_count": null,
   "metadata": {},
   "outputs": [],
   "source": []
  }
 ],
 "metadata": {
  "kernelspec": {
   "display_name": "predRUL",
   "language": "python",
   "name": "python3"
  },
  "language_info": {
   "codemirror_mode": {
    "name": "ipython",
    "version": 3
   },
   "file_extension": ".py",
   "mimetype": "text/x-python",
   "name": "python",
   "nbconvert_exporter": "python",
   "pygments_lexer": "ipython3",
   "version": "3.9.6"
  }
 },
 "nbformat": 4,
 "nbformat_minor": 2
}
